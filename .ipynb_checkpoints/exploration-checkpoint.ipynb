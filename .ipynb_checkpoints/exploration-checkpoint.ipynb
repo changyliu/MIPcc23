{
 "cells": [
  {
   "cell_type": "code",
   "execution_count": 1,
   "metadata": {},
   "outputs": [],
   "source": [
    "import pandas as pd\n",
    "import numpy as np\n",
    "from matplotlib import pyplot as plt"
   ]
  },
  {
   "cell_type": "code",
   "execution_count": 7,
   "metadata": {},
   "outputs": [],
   "source": [
    "very_rhs_2_no_ws = pd.read_csv('/Users/chang/PhD_workplace/MIPcc23/results/vary_rhs_series2_no_ws.csv')\n",
    "very_rhs_2_ws_own = pd.read_csv('/Users/chang/PhD_workplace/MIPcc23/results/vary_rhs_series2_ws_own.csv')\n",
    "very_rhs_2_ws_previous = pd.read_csv('/Users/chang/PhD_workplace/MIPcc23/results/vary_rhs_series2_ws_previous.csv')"
   ]
  },
  {
   "cell_type": "code",
   "execution_count": null,
   "metadata": {},
   "outputs": [],
   "source": []
  }
 ],
 "metadata": {
  "kernelspec": {
   "display_name": "Python 3",
   "language": "python",
   "name": "python3"
  },
  "language_info": {
   "codemirror_mode": {
    "name": "ipython",
    "version": 3
   },
   "file_extension": ".py",
   "mimetype": "text/x-python",
   "name": "python",
   "nbconvert_exporter": "python",
   "pygments_lexer": "ipython3",
   "version": "3.7.7"
  }
 },
 "nbformat": 4,
 "nbformat_minor": 4
}
